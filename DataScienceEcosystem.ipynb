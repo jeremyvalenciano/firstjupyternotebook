{
 "cells": [
  {
   "cell_type": "markdown",
   "id": "2a15d7bf-db9b-44de-ae40-33bfa0398f01",
   "metadata": {},
   "source": [
    "# Data Science Tools and Ecosystem"
   ]
  },
  {
   "cell_type": "markdown",
   "id": "0c4a6892-9c55-406c-8f93-74ad1da5966f",
   "metadata": {},
   "source": [
    "In this notebook, Data Science Tools and Ecosystem are summarized."
   ]
  },
  {
   "cell_type": "markdown",
   "id": "c701df17-4cd5-4589-864f-ff76bfcb4c3d",
   "metadata": {},
   "source": [
    "Some of the popular languages that Data Scientists use are:\r\n",
    "<ol>\r\n",
    "<li>Phyton</li>\r\n",
    "<li>R</li>\r\n",
    "<li>SQL</li>\r\n",
    "</ol>"
   ]
  },
  {
   "cell_type": "markdown",
   "id": "a66403ac-e775-4add-9683-30d0a71b41ee",
   "metadata": {},
   "source": [
    "Some of the commonly used libraries used by Data Scientists include:\n",
    "<ol>\n",
    "<li>Pandas</li>\n",
    "<li>NumPy</li>\n",
    "<li>TensorFlow</li>\n",
    "</ol>"
   ]
  },
  {
   "cell_type": "markdown",
   "id": "cd836b0a-93fa-43a8-b57a-6d466fdb1890",
   "metadata": {},
   "source": [
    "### Data Science Tools\r\n",
    "\r\n",
    "| Herramientas |\r\n",
    "|--------------|\r\n",
    "| Anaconda     |\r\n",
    "| Apache Hadoop|\r\n",
    "| IBM Watson   |\r\n"
   ]
  },
  {
   "cell_type": "markdown",
   "id": "248ac1bd-26fd-4ee0-9c79-b2785c30cf68",
   "metadata": {},
   "source": [
    "### Below are a few examples of evaluating arithmetic expressions in Python.\r\n",
    "This a simple arithmetic expression to mutiply then add integersg.\r\n"
   ]
  },
  {
   "cell_type": "code",
   "execution_count": 7,
   "id": "677820e0-37af-4100-a74f-023a01ca3fad",
   "metadata": {},
   "outputs": [
    {
     "data": {
      "text/plain": [
       "17"
      ]
     },
     "execution_count": 7,
     "metadata": {},
     "output_type": "execute_result"
    }
   ],
   "source": [
    "(3*4)+5"
   ]
  },
  {
   "cell_type": "markdown",
   "id": "945ebfec-bf02-4a23-acf3-66921e36bf62",
   "metadata": {},
   "source": [
    " This will convert 200 minutes to hours by diving by 60"
   ]
  },
  {
   "cell_type": "code",
   "execution_count": 9,
   "id": "710742cb-819f-44a0-ac6a-6d1073fb51c5",
   "metadata": {},
   "outputs": [
    {
     "data": {
      "text/plain": [
       "3.3333333333333335"
      ]
     },
     "execution_count": 9,
     "metadata": {},
     "output_type": "execute_result"
    }
   ],
   "source": [
    "# This will convert 200 minutes to hours by dividing by 60.\n",
    "minutes = 200\n",
    "hours = minutes / 60\n",
    "hours"
   ]
  },
  {
   "cell_type": "markdown",
   "id": "4fa21f3a-1a0e-4922-9ba7-778eaa201ddb",
   "metadata": {},
   "source": [
    "<b>Objectives: </b>\n",
    "List popular languages for data science:\n",
    "<ul>\n",
    "<li>Phyton<m/li>\n",
    "<li>SQL</li>\n",
    "<li>R</li>\n",
    "<li>julia</li>\n",
    "<li>MatLab</li>\n",
    "</ul>"
   ]
  },
  {
   "cell_type": "markdown",
   "id": "f4c6f7e7-7028-4e8b-9c50-9daac4471029",
   "metadata": {},
   "source": [
    "## Author"
   ]
  },
  {
   "cell_type": "markdown",
   "id": "1ba06d43-0e36-4d97-94c3-5ec4ee587d26",
   "metadata": {},
   "source": [
    "Jeremy Valenciano"
   ]
  },
  {
   "cell_type": "code",
   "execution_count": null,
   "id": "79498737-aee2-47fa-bbd7-a9b728aaf8fb",
   "metadata": {},
   "outputs": [],
   "source": []
  }
 ],
 "metadata": {
  "kernelspec": {
   "display_name": "Python 3 (ipykernel)",
   "language": "python",
   "name": "python3"
  },
  "language_info": {
   "codemirror_mode": {
    "name": "ipython",
    "version": 3
   },
   "file_extension": ".py",
   "mimetype": "text/x-python",
   "name": "python",
   "nbconvert_exporter": "python",
   "pygments_lexer": "ipython3",
   "version": "3.11.7"
  }
 },
 "nbformat": 4,
 "nbformat_minor": 5
}
